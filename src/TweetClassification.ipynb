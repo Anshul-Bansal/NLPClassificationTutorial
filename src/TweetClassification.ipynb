{
 "cells": [
  {
   "cell_type": "code",
   "execution_count": 3,
   "metadata": {},
   "outputs": [],
   "source": [
    "from tensorflow.keras.models import Sequential\n",
    "from tensorflow.keras.layers import Dense, Conv1D, Flatten, Embedding, Dropout\n",
    "from tensorflow.keras.preprocessing import sequence\n",
    "from tensorflow.keras.utils import to_categorical\n",
    "from operator import itemgetter\n",
    "\n",
    "import pandas as pd\n",
    "from collections import Counter,OrderedDict\n",
    "\n",
    "from sklearn.model_selection import train_test_split\n",
    "#from lib.get_top_xwords import filter_to_top_x\n"
   ]
  },
  {
   "cell_type": "code",
   "execution_count": 1,
   "metadata": {},
   "outputs": [],
   "source": [
    "from nltk import word_tokenize\n",
    "from collections import defaultdict\n",
    "\n",
    "def count_top_x_words(corpus, top_x, skip_top_n):\n",
    "    count = defaultdict(lambda: 0)\n",
    "    for c in corpus:\n",
    "        for w in word_tokenize(c):\n",
    "            count[w] += 1\n",
    "    count_tuples = sorted([(w, c) for w, c in count.items()], key=lambda x: x[1], reverse=True)\n",
    "    return [i[0] for i in count_tuples[skip_top_n: skip_top_n + top_x]]\n",
    "\n",
    "\n",
    "def replace_top_x_words_with_vectors(corpus, top_x):\n",
    "    topx_dict = {top_x[i]: i for i in range(len(top_x))}\n",
    "\n",
    "    return [\n",
    "        [topx_dict[w] for w in word_tokenize(s) if w in topx_dict]\n",
    "        for s in corpus\n",
    "    ], topx_dict\n",
    "\n",
    "\n",
    "def filter_to_top_x(corpus, n_top, skip_n_top=0):\n",
    "    top_x = count_top_x_words(corpus, n_top, skip_n_top)\n",
    "    return replace_top_x_words_with_vectors(corpus, top_x)"
   ]
  },
  {
   "cell_type": "code",
   "execution_count": 4,
   "metadata": {},
   "outputs": [],
   "source": [
    "df = pd.read_csv('../data/raw/train.csv')"
   ]
  },
  {
   "cell_type": "code",
   "execution_count": 5,
   "metadata": {},
   "outputs": [
    {
     "data": {
      "text/html": [
       "<div>\n",
       "<style scoped>\n",
       "    .dataframe tbody tr th:only-of-type {\n",
       "        vertical-align: middle;\n",
       "    }\n",
       "\n",
       "    .dataframe tbody tr th {\n",
       "        vertical-align: top;\n",
       "    }\n",
       "\n",
       "    .dataframe thead th {\n",
       "        text-align: right;\n",
       "    }\n",
       "</style>\n",
       "<table border=\"1\" class=\"dataframe\">\n",
       "  <thead>\n",
       "    <tr style=\"text-align: right;\">\n",
       "      <th></th>\n",
       "      <th>id</th>\n",
       "      <th>keyword</th>\n",
       "      <th>location</th>\n",
       "      <th>text</th>\n",
       "      <th>target</th>\n",
       "    </tr>\n",
       "  </thead>\n",
       "  <tbody>\n",
       "    <tr>\n",
       "      <th>0</th>\n",
       "      <td>1</td>\n",
       "      <td>NaN</td>\n",
       "      <td>NaN</td>\n",
       "      <td>Our Deeds are the Reason of this #earthquake M...</td>\n",
       "      <td>1</td>\n",
       "    </tr>\n",
       "    <tr>\n",
       "      <th>1</th>\n",
       "      <td>4</td>\n",
       "      <td>NaN</td>\n",
       "      <td>NaN</td>\n",
       "      <td>Forest fire near La Ronge Sask. Canada</td>\n",
       "      <td>1</td>\n",
       "    </tr>\n",
       "    <tr>\n",
       "      <th>2</th>\n",
       "      <td>5</td>\n",
       "      <td>NaN</td>\n",
       "      <td>NaN</td>\n",
       "      <td>All residents asked to 'shelter in place' are ...</td>\n",
       "      <td>1</td>\n",
       "    </tr>\n",
       "    <tr>\n",
       "      <th>3</th>\n",
       "      <td>6</td>\n",
       "      <td>NaN</td>\n",
       "      <td>NaN</td>\n",
       "      <td>13,000 people receive #wildfires evacuation or...</td>\n",
       "      <td>1</td>\n",
       "    </tr>\n",
       "    <tr>\n",
       "      <th>4</th>\n",
       "      <td>7</td>\n",
       "      <td>NaN</td>\n",
       "      <td>NaN</td>\n",
       "      <td>Just got sent this photo from Ruby #Alaska as ...</td>\n",
       "      <td>1</td>\n",
       "    </tr>\n",
       "  </tbody>\n",
       "</table>\n",
       "</div>"
      ],
      "text/plain": [
       "   id keyword location                                               text  \\\n",
       "0   1     NaN      NaN  Our Deeds are the Reason of this #earthquake M...   \n",
       "1   4     NaN      NaN             Forest fire near La Ronge Sask. Canada   \n",
       "2   5     NaN      NaN  All residents asked to 'shelter in place' are ...   \n",
       "3   6     NaN      NaN  13,000 people receive #wildfires evacuation or...   \n",
       "4   7     NaN      NaN  Just got sent this photo from Ruby #Alaska as ...   \n",
       "\n",
       "   target  \n",
       "0       1  \n",
       "1       1  \n",
       "2       1  \n",
       "3       1  \n",
       "4       1  "
      ]
     },
     "execution_count": 5,
     "metadata": {},
     "output_type": "execute_result"
    }
   ],
   "source": [
    "df.head()\n"
   ]
  },
  {
   "cell_type": "code",
   "execution_count": null,
   "metadata": {},
   "outputs": [],
   "source": []
  },
  {
   "cell_type": "code",
   "execution_count": 31,
   "metadata": {},
   "outputs": [
    {
     "data": {
      "text/plain": [
       "(7613, 5)"
      ]
     },
     "execution_count": 31,
     "metadata": {},
     "output_type": "execute_result"
    }
   ],
   "source": [
    "df.shape"
   ]
  },
  {
   "cell_type": "code",
   "execution_count": null,
   "metadata": {},
   "outputs": [],
   "source": []
  },
  {
   "cell_type": "code",
   "execution_count": 6,
   "metadata": {},
   "outputs": [
    {
     "data": {
      "text/plain": [
       "0    4342\n",
       "1    3271\n",
       "Name: target, dtype: int64"
      ]
     },
     "execution_count": 6,
     "metadata": {},
     "output_type": "execute_result"
    }
   ],
   "source": [
    "df.target.value_counts()"
   ]
  },
  {
   "cell_type": "code",
   "execution_count": 25,
   "metadata": {},
   "outputs": [],
   "source": []
  },
  {
   "cell_type": "code",
   "execution_count": 30,
   "metadata": {},
   "outputs": [
    {
     "data": {
      "text/plain": [
       "7613"
      ]
     },
     "execution_count": 30,
     "metadata": {},
     "output_type": "execute_result"
    }
   ],
   "source": [
    "len(description_list)"
   ]
  },
  {
   "cell_type": "code",
   "execution_count": 29,
   "metadata": {},
   "outputs": [
    {
     "data": {
      "text/plain": [
       "2500"
      ]
     },
     "execution_count": 29,
     "metadata": {},
     "output_type": "execute_result"
    }
   ],
   "source": [
    "len(word_Dict)"
   ]
  },
  {
   "cell_type": "code",
   "execution_count": 32,
   "metadata": {},
   "outputs": [
    {
     "data": {
      "text/plain": [
       "'Our Deeds are the Reason of this #earthquake May ALLAH Forgive us all'"
      ]
     },
     "execution_count": 32,
     "metadata": {},
     "output_type": "execute_result"
    }
   ],
   "source": [
    "description_list[0]"
   ]
  },
  {
   "cell_type": "code",
   "execution_count": null,
   "metadata": {},
   "outputs": [],
   "source": []
  },
  {
   "cell_type": "code",
   "execution_count": 50,
   "metadata": {},
   "outputs": [
    {
     "data": {
      "text/plain": [
       "7     585\n",
       "9     570\n",
       "8     546\n",
       "10    534\n",
       "6     526\n",
       "Name: sentLength, dtype: int64"
      ]
     },
     "execution_count": 50,
     "metadata": {},
     "output_type": "execute_result"
    }
   ],
   "source": [
    "sentLengthDist = pd.DataFrame([len(sent) for sent in mapped_list],columns=[\"sentLength\"])[\"sentLength\"].value_counts()\n",
    "sentLengthDist.head()"
   ]
  },
  {
   "cell_type": "code",
   "execution_count": 28,
   "metadata": {},
   "outputs": [
    {
     "data": {
      "text/plain": [
       "7613"
      ]
     },
     "execution_count": 28,
     "metadata": {},
     "output_type": "execute_result"
    }
   ],
   "source": [
    "len(mapped_list)"
   ]
  },
  {
   "cell_type": "code",
   "execution_count": 51,
   "metadata": {},
   "outputs": [
    {
     "data": {
      "text/plain": [
       "array([[1., 0.],\n",
       "       [0., 1.]], dtype=float32)"
      ]
     },
     "execution_count": 51,
     "metadata": {},
     "output_type": "execute_result"
    }
   ],
   "source": [
    "targetCategorical"
   ]
  },
  {
   "cell_type": "code",
   "execution_count": null,
   "metadata": {},
   "outputs": [],
   "source": []
  },
  {
   "cell_type": "code",
   "execution_count": 69,
   "metadata": {},
   "outputs": [],
   "source": [
    "\"\"\"\n",
    "changing lables into one hot encoded vectors\n",
    "topn_labelsIndex: is a dictionary with key is labels and value as index\n",
    "\"\"\"\n",
    "\n",
    "topn = 10\n",
    "freqCountLabel = Counter(df['target'].tolist())\n",
    "topn_labelsIndex = {i[0]: idx for idx, i in enumerate(freqCountLabel.most_common(topn))}\n",
    "labelIndexList = [topn_labelsIndex[i] for i in df['target'].tolist()]\n",
    "labelOHE = to_categorical(labelIndexList)"
   ]
  },
  {
   "cell_type": "code",
   "execution_count": 70,
   "metadata": {},
   "outputs": [],
   "source": [
    "\"\"\"\n",
    "pad each input sequence to make it a fixed length\n",
    "padding and truncating can be post or pre: How to decide??\n",
    "\n",
    "https://www.tensorflow.org/api_docs/python/tf/keras/preprocessing/sequence/pad_sequences\n",
    "\"\"\"\n",
    "\n",
    "nVocab = 5000\n",
    "topNIgnore = 10\n",
    "listText = df['text'].tolist()\n",
    "TextIndex, vocab_Dict = filter_to_top_x(listText, nVocab, topNIgnore)\n",
    "\n",
    "maxTextLength = 27\n",
    "paddedTextIndex = sequence.pad_sequences(TextIndex, maxlen=maxTextLength, \\\n",
    "                                        padding='post',truncating='post')"
   ]
  },
  {
   "cell_type": "code",
   "execution_count": 71,
   "metadata": {},
   "outputs": [],
   "source": [
    "\"\"\"split the data into test and train \n",
    "\"\"\"\n",
    "train_x, test_x, train_y, test_y = train_test_split(paddedTextIndex, labelOHE, test_size=0.3)"
   ]
  },
  {
   "cell_type": "code",
   "execution_count": 73,
   "metadata": {},
   "outputs": [
    {
     "name": "stdout",
     "output_type": "stream",
     "text": [
      "Epoch 1/15\n",
      "167/167 [==============================] - 6s 33ms/step - loss: 0.6560 - accuracy: 0.6063\n",
      "Epoch 2/15\n",
      "167/167 [==============================] - 6s 34ms/step - loss: 0.4351 - accuracy: 0.8078\n",
      "Epoch 3/15\n",
      "167/167 [==============================] - 5s 31ms/step - loss: 0.2683 - accuracy: 0.8974\n",
      "Epoch 4/15\n",
      "167/167 [==============================] - 6s 34ms/step - loss: 0.1847 - accuracy: 0.9323\n",
      "Epoch 5/15\n",
      "167/167 [==============================] - 6s 35ms/step - loss: 0.1497 - accuracy: 0.9458\n",
      "Epoch 6/15\n",
      "167/167 [==============================] - 6s 36ms/step - loss: 0.1223 - accuracy: 0.9583\n",
      "Epoch 7/15\n",
      "167/167 [==============================] - 5s 32ms/step - loss: 0.1063 - accuracy: 0.9636\n",
      "Epoch 8/15\n",
      "167/167 [==============================] - 5s 33ms/step - loss: 0.0910 - accuracy: 0.9662\n",
      "Epoch 9/15\n",
      "167/167 [==============================] - 6s 33ms/step - loss: 0.0811 - accuracy: 0.9720\n",
      "Epoch 10/15\n",
      "167/167 [==============================] - 6s 33ms/step - loss: 0.0752 - accuracy: 0.9700\n",
      "Epoch 11/15\n",
      "167/167 [==============================] - 6s 35ms/step - loss: 0.0718 - accuracy: 0.9709\n",
      "Epoch 12/15\n",
      "167/167 [==============================] - 6s 35ms/step - loss: 0.0714 - accuracy: 0.9702\n",
      "Epoch 13/15\n",
      "167/167 [==============================] - 5s 33ms/step - loss: 0.0709 - accuracy: 0.9688\n",
      "Epoch 14/15\n",
      "167/167 [==============================] - 5s 32ms/step - loss: 0.0657 - accuracy: 0.9737\n",
      "Epoch 15/15\n",
      "167/167 [==============================] - 6s 33ms/step - loss: 0.0623 - accuracy: 0.9743\n",
      "Accuracy: 73.99%\n"
     ]
    }
   ],
   "source": [
    "\n",
    "\n",
    "\"\"\"\n",
    "sequential model has sequence of layers\n",
    "\n",
    "input squence\n",
    "7613X27X2500\n",
    "NText*maxTextLength*nVocab\n",
    "\n",
    "oooo...o1oo-2500\n",
    "oo1o...oooo\n",
    ".\n",
    ".\n",
    ".\n",
    "oooo...o1oo\n",
    "27\n",
    "\n",
    "weight matrix\n",
    "2500X100\n",
    "\n",
    "\n",
    "embedding layer output\n",
    "7613X27X100\n",
    "NText*maxTextLength*nVocab\n",
    "\n",
    "number of filter:hyper parameter to tune (10 for starting)\n",
    "\n",
    "kernal\n",
    "3x100\n",
    "\n",
    "\n",
    "\n",
    "conv1D output\n",
    "27X10\n",
    "\n",
    "\n",
    "\n",
    "\"\"\"\n",
    "\n",
    "embedding_vector_length = 500\n",
    "model = Sequential()\n",
    "\n",
    "model.add(Embedding(nVocab, embedding_vector_length, input_length=maxTextLength))\n",
    "\n",
    "#https://www.tensorflow.org/api_docs/python/tf/keras/layers/Conv1D\n",
    "model.add(Conv1D(10, 3,padding='same',strides=1))\n",
    "\n",
    "model.add(Flatten())\n",
    "\n",
    "model.add(Dropout(0.5))\n",
    "\n",
    "model.add(Dense(100, activation='relu'))\n",
    "\n",
    "model.add(Dropout(0.5))\n",
    "\n",
    "model.add(Dense(50, activation='relu'))\n",
    "\n",
    "\n",
    "model.add(Dense(20, activation='relu'))\n",
    "\n",
    "nLables = max(labelIndexList) + 1\n",
    "\n",
    "model.add(Dense(nLables, activation='softmax'))\n",
    "\n",
    "model.compile(loss='categorical_crossentropy', optimizer='adam', metrics=['accuracy'])\n",
    "model.fit(train_x, train_y, epochs=15, batch_size=32)\n",
    "\n",
    "y_score = model.predict(test_x)\n",
    "\n",
    "y_score = [[1 if i == max(sc) else 0 for i in sc] for sc in y_score]\n",
    "n_right = 0\n",
    "for i in range(len(y_score)):\n",
    "    if all(y_score[i][j] == test_y[i][j] for j in range(len(y_score[i]))):\n",
    "        n_right += 1\n",
    "\n",
    "print(\"Accuracy: %.2f%%\" % ((n_right/float(len(test_y)) * 100)))"
   ]
  },
  {
   "cell_type": "code",
   "execution_count": null,
   "metadata": {},
   "outputs": [],
   "source": []
  }
 ],
 "metadata": {
  "kernelspec": {
   "display_name": "Python 3",
   "language": "python",
   "name": "python3"
  },
  "language_info": {
   "codemirror_mode": {
    "name": "ipython",
    "version": 3
   },
   "file_extension": ".py",
   "mimetype": "text/x-python",
   "name": "python",
   "nbconvert_exporter": "python",
   "pygments_lexer": "ipython3",
   "version": "3.7.7"
  }
 },
 "nbformat": 4,
 "nbformat_minor": 4
}
