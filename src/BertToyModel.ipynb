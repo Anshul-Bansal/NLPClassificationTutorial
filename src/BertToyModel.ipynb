{
 "cells": [
  {
   "cell_type": "code",
   "execution_count": 1,
   "metadata": {},
   "outputs": [],
   "source": [
    "import cleanText\n",
    "from tensorflowEval import ClassificationReport\n",
    "from DisasterDetector import DisasterDetector"
   ]
  },
  {
   "cell_type": "code",
   "execution_count": 2,
   "metadata": {},
   "outputs": [],
   "source": [
    "import pandas as pd\n",
    "import numpy as np\n",
    "from sklearn.model_selection import StratifiedKFold"
   ]
  },
  {
   "cell_type": "code",
   "execution_count": 3,
   "metadata": {},
   "outputs": [],
   "source": [
    "import tensorflow_hub as hub"
   ]
  },
  {
   "cell_type": "code",
   "execution_count": 7,
   "metadata": {},
   "outputs": [
    {
     "data": {
      "text/html": [
       "<div>\n",
       "<style scoped>\n",
       "    .dataframe tbody tr th:only-of-type {\n",
       "        vertical-align: middle;\n",
       "    }\n",
       "\n",
       "    .dataframe tbody tr th {\n",
       "        vertical-align: top;\n",
       "    }\n",
       "\n",
       "    .dataframe thead th {\n",
       "        text-align: right;\n",
       "    }\n",
       "</style>\n",
       "<table border=\"1\" class=\"dataframe\">\n",
       "  <thead>\n",
       "    <tr style=\"text-align: right;\">\n",
       "      <th></th>\n",
       "      <th>id</th>\n",
       "      <th>keyword</th>\n",
       "      <th>location</th>\n",
       "      <th>text</th>\n",
       "      <th>target</th>\n",
       "    </tr>\n",
       "  </thead>\n",
       "  <tbody>\n",
       "    <tr>\n",
       "      <th>0</th>\n",
       "      <td>1</td>\n",
       "      <td>NaN</td>\n",
       "      <td>NaN</td>\n",
       "      <td>Our Deeds are the Reason of this #earthquake M...</td>\n",
       "      <td>1</td>\n",
       "    </tr>\n",
       "    <tr>\n",
       "      <th>1</th>\n",
       "      <td>4</td>\n",
       "      <td>NaN</td>\n",
       "      <td>NaN</td>\n",
       "      <td>Forest fire near La Ronge Sask. Canada</td>\n",
       "      <td>1</td>\n",
       "    </tr>\n",
       "    <tr>\n",
       "      <th>2</th>\n",
       "      <td>5</td>\n",
       "      <td>NaN</td>\n",
       "      <td>NaN</td>\n",
       "      <td>All residents asked to 'shelter in place' are ...</td>\n",
       "      <td>1</td>\n",
       "    </tr>\n",
       "    <tr>\n",
       "      <th>3</th>\n",
       "      <td>6</td>\n",
       "      <td>NaN</td>\n",
       "      <td>NaN</td>\n",
       "      <td>13,000 people receive #wildfires evacuation or...</td>\n",
       "      <td>1</td>\n",
       "    </tr>\n",
       "    <tr>\n",
       "      <th>4</th>\n",
       "      <td>7</td>\n",
       "      <td>NaN</td>\n",
       "      <td>NaN</td>\n",
       "      <td>Just got sent this photo from Ruby #Alaska as ...</td>\n",
       "      <td>1</td>\n",
       "    </tr>\n",
       "  </tbody>\n",
       "</table>\n",
       "</div>"
      ],
      "text/plain": [
       "   id keyword location                                               text  \\\n",
       "0   1     NaN      NaN  Our Deeds are the Reason of this #earthquake M...   \n",
       "1   4     NaN      NaN             Forest fire near La Ronge Sask. Canada   \n",
       "2   5     NaN      NaN  All residents asked to 'shelter in place' are ...   \n",
       "3   6     NaN      NaN  13,000 people receive #wildfires evacuation or...   \n",
       "4   7     NaN      NaN  Just got sent this photo from Ruby #Alaska as ...   \n",
       "\n",
       "   target  \n",
       "0       1  \n",
       "1       1  \n",
       "2       1  \n",
       "3       1  \n",
       "4       1  "
      ]
     },
     "execution_count": 7,
     "metadata": {},
     "output_type": "execute_result"
    }
   ],
   "source": [
    "df_train = pd.read_csv(\"../data/raw/train.csv\",dtype={'id': np.int16, 'target': np.int8})\n",
    "df_train.head()"
   ]
  },
  {
   "cell_type": "code",
   "execution_count": 4,
   "metadata": {},
   "outputs": [
    {
     "data": {
      "text/html": [
       "<div>\n",
       "<style scoped>\n",
       "    .dataframe tbody tr th:only-of-type {\n",
       "        vertical-align: middle;\n",
       "    }\n",
       "\n",
       "    .dataframe tbody tr th {\n",
       "        vertical-align: top;\n",
       "    }\n",
       "\n",
       "    .dataframe thead th {\n",
       "        text-align: right;\n",
       "    }\n",
       "</style>\n",
       "<table border=\"1\" class=\"dataframe\">\n",
       "  <thead>\n",
       "    <tr style=\"text-align: right;\">\n",
       "      <th></th>\n",
       "      <th>id</th>\n",
       "      <th>text_cleaned</th>\n",
       "      <th>target</th>\n",
       "    </tr>\n",
       "  </thead>\n",
       "  <tbody>\n",
       "    <tr>\n",
       "      <th>0</th>\n",
       "      <td>1</td>\n",
       "      <td>Our Deeds are the Reason of this  # earthquake...</td>\n",
       "      <td>1</td>\n",
       "    </tr>\n",
       "    <tr>\n",
       "      <th>1</th>\n",
       "      <td>4</td>\n",
       "      <td>Forest fire near La Ronge Sask .  Canada</td>\n",
       "      <td>1</td>\n",
       "    </tr>\n",
       "    <tr>\n",
       "      <th>2</th>\n",
       "      <td>5</td>\n",
       "      <td>All residents asked to  ' shelter in place '  ...</td>\n",
       "      <td>1</td>\n",
       "    </tr>\n",
       "    <tr>\n",
       "      <th>3</th>\n",
       "      <td>6</td>\n",
       "      <td>13,000 people receive  # wildfires evacuation ...</td>\n",
       "      <td>1</td>\n",
       "    </tr>\n",
       "    <tr>\n",
       "      <th>4</th>\n",
       "      <td>7</td>\n",
       "      <td>Just got sent this photo from Ruby  # Alaska a...</td>\n",
       "      <td>1</td>\n",
       "    </tr>\n",
       "  </tbody>\n",
       "</table>\n",
       "</div>"
      ],
      "text/plain": [
       "   id                                       text_cleaned  target\n",
       "0   1  Our Deeds are the Reason of this  # earthquake...       1\n",
       "1   4           Forest fire near La Ronge Sask .  Canada       1\n",
       "2   5  All residents asked to  ' shelter in place '  ...       1\n",
       "3   6  13,000 people receive  # wildfires evacuation ...       1\n",
       "4   7  Just got sent this photo from Ruby  # Alaska a...       1"
      ]
     },
     "execution_count": 4,
     "metadata": {},
     "output_type": "execute_result"
    }
   ],
   "source": [
    "#df_train['text_cleaned'] = df_train['text'].apply(lambda s : cleanText.clean(s))\n",
    "df_train = pd.read_csv(\"../data/raw/trainProc.csv\",dtype={'id': np.int16, 'target': np.int8})\n",
    "#df_train[[\"id\",\"text_cleaned\",\"target\"]].to_csv(\"../data/raw/trainProc.csv\",index=False)\n",
    "df_train.head()"
   ]
  },
  {
   "cell_type": "code",
   "execution_count": 5,
   "metadata": {},
   "outputs": [],
   "source": [
    "K = 2\n",
    "seed = 100\n",
    "skf = StratifiedKFold(n_splits=K, random_state=seed, shuffle=True)"
   ]
  },
  {
   "cell_type": "code",
   "execution_count": 8,
   "metadata": {},
   "outputs": [
    {
     "name": "stdout",
     "output_type": "stream",
     "text": [
      "CPU times: user 9.78 s, sys: 2.37 s, total: 12.2 s\n",
      "Wall time: 41.8 s\n"
     ]
    }
   ],
   "source": [
    "%%time\n",
    "#module_url = \"https://tfhub.dev/tensorflow/bert_en_uncased_L-24_H-1024_A-16/1\"\n",
    "module_url = \"https://tfhub.dev/tensorflow/bert_en_uncased_L-12_H-768_A-12/1\"\n",
    "bert_layer = hub.KerasLayer(module_url, trainable=True)"
   ]
  },
  {
   "cell_type": "code",
   "execution_count": 9,
   "metadata": {},
   "outputs": [
    {
     "name": "stdout",
     "output_type": "stream",
     "text": [
      "\n",
      "Fold 0\n",
      "\n",
      "Epoch 1/10\n",
      "119/119 [==============================] - ETA: 0s - loss: 0.6842 - accuracy: 0.5888\n",
      "Epoch: 1 - Training Precision: 0.737729 - Training Recall: 0.684738 - Training F1: 0.684214\n",
      "Epoch: 1 - Validation Precision: 0.713395 - Validation Recall: 0.666675 - Validation F1: 0.664692\n",
      "119/119 [==============================] - 701s 6s/step - loss: 0.6842 - accuracy: 0.5888 - val_loss: 0.6146 - val_accuracy: 0.6974\n",
      "Epoch 2/10\n",
      "119/119 [==============================] - ETA: 0s - loss: 0.5633 - accuracy: 0.7488\n",
      "Epoch: 2 - Training Precision: 0.765834 - Training Recall: 0.756316 - Training F1: 0.759263\n",
      "Epoch: 2 - Validation Precision: 0.743897 - Validation Recall: 0.733994 - Validation F1: 0.736788\n",
      "119/119 [==============================] - 907s 8s/step - loss: 0.5633 - accuracy: 0.7488 - val_loss: 0.5391 - val_accuracy: 0.7465\n",
      "Epoch 3/10\n",
      "119/119 [==============================] - ETA: 0s - loss: 0.4944 - accuracy: 0.7801\n",
      "Epoch: 3 - Training Precision: 0.793898 - Training Recall: 0.7851 - Training F1: 0.788096\n",
      "Epoch: 3 - Validation Precision: 0.772456 - Validation Recall: 0.764893 - Validation F1: 0.76747\n",
      "119/119 [==============================] - 1265s 11s/step - loss: 0.4944 - accuracy: 0.7801 - val_loss: 0.4940 - val_accuracy: 0.7749\n",
      "Epoch 4/10\n",
      "119/119 [==============================] - ETA: 0s - loss: 0.4537 - accuracy: 0.8011\n",
      "Epoch: 4 - Training Precision: 0.811968 - Training Recall: 0.801878 - Training F1: 0.80529\n",
      "Epoch: 4 - Validation Precision: 0.790157 - Validation Recall: 0.781967 - Validation F1: 0.784793\n",
      "119/119 [==============================] - 955s 8s/step - loss: 0.4537 - accuracy: 0.8011 - val_loss: 0.4700 - val_accuracy: 0.7917\n",
      "Epoch 5/10\n",
      "119/119 [==============================] - ETA: 0s - loss: 0.4283 - accuracy: 0.8106\n",
      "Epoch: 5 - Training Precision: 0.82232 - Training Recall: 0.812748 - Training F1: 0.816096\n",
      "Epoch: 5 - Validation Precision: 0.796828 - Validation Recall: 0.789537 - Validation F1: 0.792168\n",
      "119/119 [==============================] - 941s 8s/step - loss: 0.4283 - accuracy: 0.8106 - val_loss: 0.4553 - val_accuracy: 0.7985\n",
      "Epoch 6/10\n",
      "119/119 [==============================] - ETA: 0s - loss: 0.4086 - accuracy: 0.8221\n",
      "Epoch: 6 - Training Precision: 0.835088 - Training Recall: 0.819295 - Training F1: 0.824098\n",
      "Epoch: 6 - Validation Precision: 0.804962 - Validation Recall: 0.79226 - Validation F1: 0.796164\n",
      "119/119 [==============================] - 764s 6s/step - loss: 0.4086 - accuracy: 0.8221 - val_loss: 0.4458 - val_accuracy: 0.8038\n",
      "Epoch 7/10\n",
      "119/119 [==============================] - ETA: 0s - loss: 0.3930 - accuracy: 0.8284\n",
      "Epoch: 7 - Training Precision: 0.848044 - Training Recall: 0.824007 - Training F1: 0.830324\n",
      "Epoch: 7 - Validation Precision: 0.815008 - Validation Recall: 0.795444 - Validation F1: 0.800578\n",
      "119/119 [==============================] - 745s 6s/step - loss: 0.3930 - accuracy: 0.8284 - val_loss: 0.4408 - val_accuracy: 0.8096\n",
      "Epoch 8/10\n",
      "119/119 [==============================] - ETA: 0s - loss: 0.3790 - accuracy: 0.8379\n",
      "Epoch: 8 - Training Precision: 0.844102 - Training Recall: 0.832973 - Training F1: 0.836835\n",
      "Epoch: 8 - Validation Precision: 0.809707 - Validation Recall: 0.802169 - Validation F1: 0.804922\n",
      "119/119 [==============================] - 704s 6s/step - loss: 0.3790 - accuracy: 0.8379 - val_loss: 0.4330 - val_accuracy: 0.8109\n",
      "Epoch 9/10\n",
      "119/119 [==============================] - ETA: 0s - loss: 0.3661 - accuracy: 0.8426\n",
      "Epoch: 9 - Training Precision: 0.853232 - Training Recall: 0.838584 - Training F1: 0.843327\n",
      "Epoch: 9 - Validation Precision: 0.817137 - Validation Recall: 0.805645 - Validation F1: 0.809405\n",
      "119/119 [==============================] - 756s 6s/step - loss: 0.3661 - accuracy: 0.8426 - val_loss: 0.4291 - val_accuracy: 0.8161\n",
      "Epoch 10/10\n",
      "119/119 [==============================] - ETA: 0s - loss: 0.3541 - accuracy: 0.8471\n",
      "Epoch: 10 - Training Precision: 0.855376 - Training Recall: 0.848033 - Training F1: 0.850893\n",
      "Epoch: 10 - Validation Precision: 0.809552 - Validation Recall: 0.804898 - Validation F1: 0.806784\n",
      "119/119 [==============================] - 654s 5s/step - loss: 0.3541 - accuracy: 0.8471 - val_loss: 0.4286 - val_accuracy: 0.8119\n",
      "\n",
      "Fold 1\n",
      "\n",
      "Epoch 1/10\n",
      "119/119 [==============================] - ETA: 0s - loss: 0.5317 - accuracy: 0.7373\n",
      "Epoch: 1 - Training Precision: 0.801255 - Training Recall: 0.792611 - Training F1: 0.795609\n",
      "Epoch: 1 - Validation Precision: 0.811533 - Validation Recall: 0.804004 - Validation F1: 0.806765\n",
      "119/119 [==============================] - 672s 6s/step - loss: 0.5317 - accuracy: 0.7373 - val_loss: 0.4315 - val_accuracy: 0.8127\n",
      "Epoch 2/10\n",
      "119/119 [==============================] - ETA: 0s - loss: 0.4384 - accuracy: 0.8072\n",
      "Epoch: 2 - Training Precision: 0.82976 - Training Recall: 0.815234 - Training F1: 0.819732\n",
      "Epoch: 2 - Validation Precision: 0.829693 - Validation Recall: 0.814696 - Validation F1: 0.819291\n",
      "119/119 [==============================] - 654s 5s/step - loss: 0.4384 - accuracy: 0.8072 - val_loss: 0.4039 - val_accuracy: 0.8263\n",
      "Epoch 3/10\n",
      "119/119 [==============================] - ETA: 0s - loss: 0.4142 - accuracy: 0.8266\n",
      "Epoch: 3 - Training Precision: 0.830251 - Training Recall: 0.823443 - Training F1: 0.826061\n",
      "Epoch: 3 - Validation Precision: 0.829374 - Validation Recall: 0.821998 - Validation F1: 0.824784\n",
      "119/119 [==============================] - 867s 7s/step - loss: 0.4142 - accuracy: 0.8266 - val_loss: 0.3935 - val_accuracy: 0.8300\n",
      "Epoch 4/10\n",
      "119/119 [==============================] - ETA: 0s - loss: 0.3981 - accuracy: 0.8361\n",
      "Epoch: 4 - Training Precision: 0.8493 - Training Recall: 0.831405 - Training F1: 0.836751\n",
      "Epoch: 4 - Validation Precision: 0.84397 - Validation Recall: 0.823607 - Validation F1: 0.829314\n",
      "119/119 [==============================] - 861s 7s/step - loss: 0.3981 - accuracy: 0.8361 - val_loss: 0.3884 - val_accuracy: 0.8368\n",
      "Epoch 5/10\n",
      "119/119 [==============================] - ETA: 0s - loss: 0.3847 - accuracy: 0.8411\n",
      "Epoch: 5 - Training Precision: 0.841083 - Training Recall: 0.834843 - Training F1: 0.837316\n",
      "Epoch: 5 - Validation Precision: 0.832214 - Validation Recall: 0.825135 - Validation F1: 0.827843\n",
      "119/119 [==============================] - 919s 8s/step - loss: 0.3847 - accuracy: 0.8411 - val_loss: 0.3852 - val_accuracy: 0.8329\n",
      "Epoch 6/10\n",
      "119/119 [==============================] - ETA: 0s - loss: 0.3755 - accuracy: 0.8461\n",
      "Epoch: 6 - Training Precision: 0.853794 - Training Recall: 0.842461 - Training F1: 0.846427\n",
      "Epoch: 6 - Validation Precision: 0.838315 - Validation Recall: 0.82586 - Validation F1: 0.829998\n",
      "119/119 [==============================] - 796s 7s/step - loss: 0.3755 - accuracy: 0.8461 - val_loss: 0.3814 - val_accuracy: 0.8360\n",
      "Epoch 7/10\n",
      "119/119 [==============================] - ETA: 0s - loss: 0.3636 - accuracy: 0.8511\n",
      "Epoch: 7 - Training Precision: 0.861005 - Training Recall: 0.845778 - Training F1: 0.850707\n",
      "Epoch: 7 - Validation Precision: 0.844653 - Validation Recall: 0.828409 - Validation F1: 0.833399\n",
      "119/119 [==============================] - 667s 6s/step - loss: 0.3636 - accuracy: 0.8511 - val_loss: 0.3787 - val_accuracy: 0.8400\n",
      "Epoch 8/10\n",
      "119/119 [==============================] - ETA: 0s - loss: 0.3547 - accuracy: 0.8563\n",
      "Epoch: 8 - Training Precision: 0.861305 - Training Recall: 0.849202 - Training F1: 0.853406\n",
      "Epoch: 8 - Validation Precision: 0.841427 - Validation Recall: 0.828771 - Validation F1: 0.832978\n",
      "119/119 [==============================] - 669s 6s/step - loss: 0.3547 - accuracy: 0.8563 - val_loss: 0.3782 - val_accuracy: 0.8389\n",
      "Epoch 9/10\n",
      "119/119 [==============================] - ETA: 0s - loss: 0.3449 - accuracy: 0.8597\n",
      "Epoch: 9 - Training Precision: 0.869308 - Training Recall: 0.853436 - Training F1: 0.858577\n",
      "Epoch: 9 - Validation Precision: 0.846928 - Validation Recall: 0.830096 - Validation F1: 0.835224\n",
      "119/119 [==============================] - 672s 6s/step - loss: 0.3449 - accuracy: 0.8597 - val_loss: 0.3773 - val_accuracy: 0.8418\n",
      "Epoch 10/10\n",
      "119/119 [==============================] - ETA: 0s - loss: 0.3370 - accuracy: 0.8616\n",
      "Epoch: 10 - Training Precision: 0.873406 - Training Recall: 0.856656 - Training F1: 0.862023\n",
      "Epoch: 10 - Validation Precision: 0.847212 - Validation Recall: 0.829489 - Validation F1: 0.834786\n",
      "119/119 [==============================] - 666s 6s/step - loss: 0.3370 - accuracy: 0.8616 - val_loss: 0.3777 - val_accuracy: 0.8416\n"
     ]
    },
    {
     "name": "stdout",
     "output_type": "stream",
     "text": [
      "CPU times: user 21h 7min 19s, sys: 2h 36min 55s, total: 23h 44min 14s\n",
      "Wall time: 4h 25min 38s\n"
     ]
    }
   ],
   "source": [
    "%%time\n",
    "clf = DisasterDetector(bert_layer,skf, max_seq_length=27, lr=0.0001, epochs=10, batch_size=32)\n",
    "\n",
    "clf.train(df_train)"
   ]
  },
  {
   "cell_type": "code",
   "execution_count": null,
   "metadata": {},
   "outputs": [],
   "source": []
  }
 ],
 "metadata": {
  "kernelspec": {
   "display_name": "Python 3",
   "language": "python",
   "name": "python3"
  },
  "language_info": {
   "codemirror_mode": {
    "name": "ipython",
    "version": 3
   },
   "file_extension": ".py",
   "mimetype": "text/x-python",
   "name": "python",
   "nbconvert_exporter": "python",
   "pygments_lexer": "ipython3",
   "version": "3.7.7"
  }
 },
 "nbformat": 4,
 "nbformat_minor": 4
}
